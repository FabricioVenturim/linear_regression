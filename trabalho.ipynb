{
 "cells": [
  {
   "cell_type": "markdown",
   "id": "48335c1e",
   "metadata": {},
   "source": [
    "# 1 - Teoria"
   ]
  },
  {
   "cell_type": "markdown",
   "id": "0e6c7402",
   "metadata": {},
   "source": [
    "## 1.1 - Mínimos Quadrados"
   ]
  },
  {
   "cell_type": "markdown",
   "id": "d6049cd6",
   "metadata": {},
   "source": [
    "O **método dos Mínimos Quadrados(MMQ)** também conhecido como Mínimos Quadrados Ordinários é um modo de otimização na matemática e estatística. Este método procura melhorar um conjunto de dados tentando minimizar a soma dos quadrados das diferenças entre o valor estimado e os dados observados tal que essas diferenças são chamadas de resíduos, vamos demonstrar esse problema."
   ]
  },
  {
   "cell_type": "markdown",
   "id": "f4026a05",
   "metadata": {},
   "source": [
    "Temos um conjunto de dados simples que consiste em $n$ pontos (que são pares ordenados) $(x_i, y_i)$, $i= 1,2,.....,n$ tal que $x_i$ é uma variável independe e $y_i$ é uma dependente."
   ]
  },
  {
   "cell_type": "markdown",
   "id": "bb48ab00",
   "metadata": {},
   "source": [
    "A função modelo dada como $F(x,b)$ tal que os parâmetros ajustáveis são mantidos no vetor $b$, queremos encontrar os parâmetros que melhor se ajusta em nos dados."
   ]
  },
  {
   "cell_type": "markdown",
   "id": "d30d0ea3",
   "metadata": {},
   "source": [
    "O ajuste de um modelo é pelo seu resíduo, que é diferença entre o valor real da variável dependente e o valor predito pelo modelo:"
   ]
  },
  {
   "cell_type": "markdown",
   "id": "59e0216f",
   "metadata": {},
   "source": [
    "$$r_i = y_i - F(x_i,b)$$ "
   ]
  },
  {
   "cell_type": "markdown",
   "id": "14ed4773",
   "metadata": {},
   "source": [
    "Então, encontrar os valores ideais para os parâmetros, minimizando a soma S dos quadrados residuais :"
   ]
  },
  {
   "cell_type": "markdown",
   "id": "926a844f",
   "metadata": {},
   "source": [
    "$$ S = \\sum\\limits_{i-1}^{\\mbox{}{n}}r^2_i$$"
   ]
  },
  {
   "cell_type": "markdown",
   "id": "a450ca8f",
   "metadata": {},
   "source": [
    "Um tipo de modelo de duas dimensões é o da reta da função afim:"
   ]
  },
  {
   "cell_type": "markdown",
   "id": "5b18dc68",
   "metadata": {},
   "source": [
    "$$ f(x) = b_0 + b_1x$$ "
   ]
  },
  {
   "cell_type": "markdown",
   "id": "ed3cbdf4",
   "metadata": {},
   "source": [
    "\n",
    "$b_0$ sendo a intersecção em y e $b_1$ a inclinação."
   ]
  },
  {
   "cell_type": "markdown",
   "id": "360fa683",
   "metadata": {},
   "source": [
    "## 1.2 - Regressão Linear"
   ]
  },
  {
   "cell_type": "markdown",
   "id": "22df60ab",
   "metadata": {},
   "source": [
    "### 1.2.1 - Regressão Linear Simples"
   ]
  },
  {
   "cell_type": "markdown",
   "id": "066eee8f",
   "metadata": {},
   "source": [
    "Em estatística ou econometria, a análise de regressão linear é usada para prever o valor de uma variável com base no valor de outra. A variável que deseja prever é chamada de **variável dependente**. A variável que é usada para prever o valor de outra variável é chamada de **variável independente**."
   ]
  },
  {
   "cell_type": "markdown",
   "id": "13ea58b5",
   "metadata": {},
   "source": [
    "Em regressão simples, queremos estimar valores de determinada variável y. Para isso, consideramos os valores de outra variável x que acreditamos ter poder de explicação sobre y conforme a fórmulam:"
   ]
  },
  {
   "cell_type": "markdown",
   "id": "96014683",
   "metadata": {},
   "source": [
    "$$ y = \\alpha + \\beta x + \\epsilon$$"
   ]
  },
  {
   "cell_type": "markdown",
   "id": "78310d13",
   "metadata": {},
   "source": [
    "Tal que:"
   ]
  },
  {
   "cell_type": "markdown",
   "id": "1a0eedd0",
   "metadata": {},
   "source": [
    "* $\\alpha$ é o parâmetro do modelo chamado de constante (pois não depende de x).\n",
    "\n",
    "* $\\beta$ é o parâmetro do modelo chamado de coeficiente da variáve x.\n",
    "\n",
    "* $\\epsilon$ é o erro que representa a variação de y que não é explicada pelo modelo."
   ]
  },
  {
   "cell_type": "markdown",
   "id": "6205f016",
   "metadata": {},
   "source": [
    "Em uma base de dados com $n$ valores observados de $y$ e $x$. Sabemos que usando base de dados $y$ e $x$ são vetores que representa uma lista de valores, um para cada observação de dados."
   ]
  },
  {
   "cell_type": "markdown",
   "id": "7cd73fc3",
   "metadata": {},
   "source": [
    "O método dos mínimos quadrados ajuda a encontrar as estimativas de $\\alpha$ e $\\beta$ . Como sabemos, serão somente estimativas desses parâmetros, pois o valor real dos parâmetros são desconhecidos."
   ]
  },
  {
   "cell_type": "markdown",
   "id": "8d04afcf",
   "metadata": {},
   "source": [
    " Logo, quando for fazer a estimativa iremos mudar a notação de algumas variáveis:"
   ]
  },
  {
   "cell_type": "markdown",
   "id": "737e2932",
   "metadata": {},
   "source": [
    "$$\\alpha = a, \\beta = b, \\epsilon = e $$"
   ]
  },
  {
   "cell_type": "markdown",
   "id": "98b095c6",
   "metadata": {},
   "source": [
    "Logo, quando estimamos um modelo a base de dados, estamos estimando :"
   ]
  },
  {
   "cell_type": "markdown",
   "id": "13132071",
   "metadata": {},
   "source": [
    "$$y_i = a + bx_i + e_i$$  \n",
    "\n",
    "Tal que $i$ indica uma das n observações da base de dados e $e$ vai ser chamado de resíduo ao invés de erro."
   ]
  },
  {
   "cell_type": "markdown",
   "id": "3c9ff912",
   "metadata": {},
   "source": [
    "O método dos mínimos quadrados minimiza a soma dos quadrado dos resíduos, ou seja, minimiza:"
   ]
  },
  {
   "cell_type": "markdown",
   "id": "f5015fde",
   "metadata": {},
   "source": [
    "$$\\sum\\limits_{t=0}^{\\mbox{}{n}}e^2$$"
   ]
  },
  {
   "cell_type": "markdown",
   "id": "d7f6d1a7",
   "metadata": {},
   "source": [
    "A ideia dessa técnica é que, minimizando essa soma, encontraremos a e b que trarão menor diferença entre a previsão de $y$ e o $y$ realmente observado: \n",
    "\n",
    "Tomando $e_i = y_i - a -bx_i$, teremos \n",
    "$$ S(a,b) = \\sum\\limits_{t=0}^{\\mbox{}{n}}(y_i - a -bx_i)^2$$"
   ]
  },
  {
   "cell_type": "markdown",
   "id": "99c5d3d6",
   "metadata": {},
   "source": [
    "A minimização vai ser quando derivarmos S e relação a a e b, usando a regra da cadeia e depois igualando a zero. \n",
    "\n",
    "Assim chegaremos a: "
   ]
  },
  {
   "cell_type": "markdown",
   "id": "76db043d",
   "metadata": {},
   "source": [
    "$$ b = (\\sum \\limits_{i=1}^{\\mbox{}{n}}(x_i - x^*)(y_i - y^*))(\\sum \\limits_{i=1}^{\\mbox{}{n}}(x_i - x^*)^2) $$ \n"
   ]
  },
  {
   "cell_type": "markdown",
   "id": "81742547",
   "metadata": {},
   "source": [
    "Tal que onde $y^*$ é a média amostral de y e $x^*$ é a média amostral de x. "
   ]
  },
  {
   "cell_type": "markdown",
   "id": "a1c3df6f",
   "metadata": {},
   "source": [
    "### 1.2.2 - Regressão Múltipla"
   ]
  },
  {
   "cell_type": "markdown",
   "id": "4dcf197b",
   "metadata": {},
   "source": [
    "A regressão múltipla apresenta um funcionamento parecido com o da regressão simples, porém, leva em consideração diversas variáveis explicativas x influenciando y ao mesmo tempo:\n",
    "\n",
    "$$ y = b_0 + x_1b_1 + x_2b_2 + ... + x_kb_k + e$$\n",
    "    \n",
    "Ao usar uma base de dados com $k$ variáveis explicativas e $n$ observações, o modelo pode ser escrito de uma forma matricial, mas também pode ser resumida em fórmula como: "
   ]
  },
  {
   "cell_type": "markdown",
   "id": "f1183dc1",
   "metadata": {},
   "source": [
    "$$ y = Xb + e $$ \n",
    "\n",
    "A técnica para mínimos quadrados continua sendo a mesma, logo tendo $e = y - Xb$ Temos:\n",
    "\n",
    "$$S(b) = (y - Xb)^T (Y - Xb)$$ \n",
    "\n",
    "A minimização pode ser obtida ao derivar S e igualar a zero, logo teremos: \n",
    "\n",
    "$$b = (X^TX)^1X^Ty$$"
   ]
  },
  {
   "cell_type": "markdown",
   "id": "a97e0f52",
   "metadata": {},
   "source": [
    "# 2 - Aplicação"
   ]
  },
  {
   "cell_type": "markdown",
   "id": "15e0bdcf",
   "metadata": {},
   "source": [
    "## 2.1 - Contexto e Objetivos"
   ]
  },
  {
   "cell_type": "markdown",
   "id": "eb48e717",
   "metadata": {},
   "source": [
    "Um sistema de compartilhamento de bicicletas é um serviço no qual as bicicletas são disponibilizadas para uso compartilhado para indivíduos a curto prazo por um preço ou gratuitamente. Muitos sistemas de compartilhamento de bicicletas permitem que as pessoas peguem uma bicicleta emprestada de um \"dock\" que geralmente é controlado por computador, no qual o usuário insere as informações de pagamento e o sistema o desbloqueia. Esta bicicleta pode então ser devolvida a outra doca pertencente ao mesmo sistema.\n",
    "\n",
    "Com base em várias pesquisas meteorológicas e estilos das pessoas, Queremos entender os fatores dos quais depende a demanda por essas bicicletas compartilhadas. Especificamente, queremos entender os fatores que afetam a demanda por essas bicicletas compartilhadas no mercado americano. \n",
    "\n",
    "**Objetivo do negócio:**\n",
    "\n",
    "Somos obrigados a modelar a demanda por bicicletas compartilhadas com as variáveis ​​independentes disponíveis. Ele será usado para entender exatamente como as demandas variam com diferentes recursos. Esse modelo será útil para manipular a estratégia de negócios de acordo com os níveis de demanda e atender às expectativas do cliente. Além disso, o modelo será uma boa maneira de a administração entender a dinâmica da demanda de um novo mercado.\n",
    "\n",
    "link: https://business-science.github.io/timetk/reference/bike_sharing_daily.html"
   ]
  },
  {
   "cell_type": "markdown",
   "id": "4b1768e9",
   "metadata": {},
   "source": [
    "## 2.2 - Importação e Limpeza dos dados"
   ]
  },
  {
   "cell_type": "code",
   "execution_count": null,
   "id": "a067ce00",
   "metadata": {},
   "outputs": [],
   "source": [
    "import numpy as np\n",
    "import pandas as pd\n",
    "import matplotlib.pyplot as plt\n",
    "import seaborn as sns\n",
    "%matplotlib inline\n",
    "\n",
    "from sklearn.model_selection import train_test_split\n",
    "import statsmodels.api as sm"
   ]
  },
  {
   "cell_type": "code",
   "execution_count": null,
   "id": "c4eb2672",
   "metadata": {},
   "outputs": [],
   "source": [
    "bike = pd.DataFrame(pd.read_csv(\"day.csv\"))"
   ]
  },
  {
   "cell_type": "code",
   "execution_count": null,
   "id": "90cfcfe3",
   "metadata": {},
   "outputs": [],
   "source": [
    "bike"
   ]
  },
  {
   "cell_type": "markdown",
   "id": "00ba12a4",
   "metadata": {},
   "source": [
    "### Verificar as informações do dataframe "
   ]
  },
  {
   "cell_type": "code",
   "execution_count": null,
   "id": "418abf54",
   "metadata": {},
   "outputs": [],
   "source": [
    "bike.info()"
   ]
  },
  {
   "cell_type": "markdown",
   "id": "9de7c98e",
   "metadata": {},
   "source": [
    "#### Explicando as variáveis:"
   ]
  },
  {
   "cell_type": "markdown",
   "id": "d005a73c",
   "metadata": {},
   "source": [
    "* **instant**: index do DataBase (type: int).\n",
    "\n",
    "* **dteday**: Dia (type: Data).\n",
    "\n",
    "* **season**: Estação do ano, sendo 1, 2, 3 e 4 index para, respectivamente, inverno, primavera, verão e outono. (type: int)\n",
    "\n",
    "* **yr**: Ano, sendo 1 o ano de 2018 e 2 para o ano de 2019. (type: int)\n",
    " \n",
    "* **mnth**: O mês do ano. (type: int).\n",
    "\n",
    "* **holiday**: 1 para feriados e 0 para dias comuns. (type: int).\n",
    "\n",
    "* **weekday**: index para os dias da semana, começando no domingo com o index 0. (type: int)\n",
    "\n",
    "* **workingday**: se o dia não for fim de semana nem feriado for 1, caso contrário será 0.\n",
    "\n",
    "* **weathersit**:  \n",
    "\n",
    " * 1: Claro, Poucas nuvens, Parcialmente nublado, Parcialmente nublado \n",
    "\n",
    " * 2: Névoa + Nublado, Névoa + Nuvens quebradas, Névoa + Poucas nuvens, Névoa\n",
    "\n",
    " * 3: Neve fraca, Chuva fraca + Trovoada + Nuvens dispersas, Chuva fraca + Nuvens dispersas\n",
    "\n",
    " * 4: Chuva Pesada + Paletes de Gelo + Trovoada + Névoa, Neve + Neblina  (type: int)\n",
    "\n",
    "* **temp**: Temperatura normalizada em Celsius. Os valores são derivados via (t-t_min)/(t_max-t_min), t_min=-8, t_max=+39 (somente em escala horária). (type: int).\n",
    "\n",
    "* **atemp**: Temperatura de sensação normalizada em Celsius. Os valores são derivados via (t-t_min)/(t_max-t_min), t_min=-16, t_max=+50 (somente em escala horária). (type: int).\n",
    "\n",
    "* **hum**: Umidade normalizada. Os valores são divididos em 100 (máx.). (type: int).\n",
    "\n",
    "* **windspeed**: velocidade do vento normalizada. Os valores são divididos em 67 (máx.). (type: int).\n",
    "\n",
    "* **casual**: contagem de usuários casuais. (type: int).\n",
    "\n",
    "* **registered**: contagem de usuários registrados. (type: int).\n",
    "\n",
    "* **cnt**: contagem do total de bicicletas alugadas, incluindo casuais e registradas. (type: int)."
   ]
  },
  {
   "cell_type": "code",
   "execution_count": null,
   "id": "2db36319",
   "metadata": {},
   "outputs": [],
   "source": [
    "bike.describe()"
   ]
  },
  {
   "cell_type": "code",
   "execution_count": null,
   "id": "a3734812",
   "metadata": {},
   "outputs": [],
   "source": [
    "#Quantidade de valores nulos\n",
    "\n",
    "na = bike[bike.isna()].count()\n",
    "print(na)"
   ]
  },
  {
   "cell_type": "markdown",
   "id": "48a021e1",
   "metadata": {},
   "source": [
    "#### Análise das informações encontradas:"
   ]
  },
  {
   "cell_type": "markdown",
   "id": "dd37c5d3",
   "metadata": {},
   "source": [
    "* Há 730 instâncias e 16 variáveis\n",
    "* Não há valores NaN no nosso banco de dados\n",
    "* 11 variáveis int, 4 float e 1 data, sendo que 'mnth', 'weekday', 'season' e 'weathersit' são variáveis categóricas."
   ]
  },
  {
   "cell_type": "markdown",
   "id": "cd1d565d",
   "metadata": {},
   "source": [
    "#### Como essa variáveis são categóricas, vamos mudar o seu tipo:"
   ]
  },
  {
   "cell_type": "code",
   "execution_count": null,
   "id": "9f587eff",
   "metadata": {},
   "outputs": [],
   "source": [
    "bike['yr'] = bike['yr'].astype('category')\n",
    "bike['season'] = bike['season'].astype('category')\n",
    "bike['weathersit'] = bike['weathersit'].astype('category')\n",
    "bike['mnth'] = bike['mnth'].astype('category')\n",
    "bike['weekday'] = bike['weekday'].astype('category')"
   ]
  },
  {
   "cell_type": "code",
   "execution_count": null,
   "id": "cb8a5150",
   "metadata": {},
   "outputs": [],
   "source": [
    "bike.info()"
   ]
  },
  {
   "cell_type": "markdown",
   "id": "91b792c0",
   "metadata": {},
   "source": [
    "#### Vamos excluir as seguintes variáveis:"
   ]
  },
  {
   "cell_type": "markdown",
   "id": "b6f08cb8",
   "metadata": {},
   "source": [
    "* **instant** : É apenas um valor de índice.\n",
    "\n",
    "* **dteday** : Já temos essa variáveis separada em outras variáveis.\n",
    "\n",
    "* **casual & registered** : ambas as colunas contêm a contagem de bicicletas reservadas por diferentes categorias de clientes. Como nosso objetivo é encontrar a contagem total de bicicletas e não por categoria específica, vamos ignorar essas duas colunas."
   ]
  },
  {
   "cell_type": "code",
   "execution_count": null,
   "id": "449198eb",
   "metadata": {},
   "outputs": [],
   "source": [
    "bike_new = bike[['season', 'yr', 'mnth', 'holiday', 'weekday',\n",
    "       'workingday', 'weathersit', 'temp', 'atemp', 'hum', 'windspeed',\n",
    "       'cnt']]\n",
    "bike_new"
   ]
  },
  {
   "cell_type": "markdown",
   "id": "24b19855",
   "metadata": {},
   "source": [
    "### Criando variáveis ficticías "
   ]
  },
  {
   "cell_type": "markdown",
   "id": "d6182713",
   "metadata": {},
   "source": [
    "As variáveis categorias não podem ser utilizadas em forma de texto, uma vez que os algoritmos compreendem apenas valores numéricos. Também não podemos simplesmente atribuir um valor numérico para cada categoria, uma vez que esse processo, conhecido como ponderação arbitrária, pode criar uma ordenação e pesos para as categorias que não refletem a realidade.\n",
    "\n",
    "O processo correto de transformação das variáveis categóricas é feito a partir da criação de novas colunas a partir das categorias. Cada uma delas se torna uma nova coluna e o valor na linha correspondente será 1, caso tenha a presença da característica. Do contrário, será 0. Esse processo é conhecido como codificação **\"one-hot\"**."
   ]
  },
  {
   "cell_type": "markdown",
   "id": "825cba3e",
   "metadata": {},
   "source": [
    "| Variável   | \n",
    "|---------- |\n",
    "| Característica 1 | \n",
    "| Característica 2  |   \n",
    "| Característica 3  |   \n",
    "\n",
    "| Característica 1   | Característica 2 | Característica 3|\n",
    "|---------- | ----------  |---------- |\n",
    "|**1** | 0 | 0| \n",
    "| 0  |  **1** | 0| \n",
    "| 0  |  0 | **1**| "
   ]
  },
  {
   "cell_type": "code",
   "execution_count": null,
   "id": "d48a2063",
   "metadata": {},
   "outputs": [],
   "source": [
    "bike_new = pd.get_dummies(bike_new)\n",
    "bike_new.info()"
   ]
  },
  {
   "cell_type": "code",
   "execution_count": null,
   "id": "47d58aa5",
   "metadata": {},
   "outputs": [],
   "source": [
    "bike_new"
   ]
  },
  {
   "cell_type": "markdown",
   "id": "334928b0",
   "metadata": {},
   "source": [
    "### Tranformação logarítimica"
   ]
  },
  {
   "cell_type": "markdown",
   "id": "0c82d1b4",
   "metadata": {},
   "source": [
    "#### Tranformação das variáveis numéricas em logarítimos na base 10"
   ]
  },
  {
   "cell_type": "markdown",
   "id": "a1e1ba77",
   "metadata": {},
   "source": [
    "**Primeira**: Supondo que a distribuição da variável em questão possui um viés, ou seja, uma das extremidades elevadas e uma cauda longa, medidas como correlação ou regressão podem ser bastante influenciadas pelo pico da distribuição, outliers, dentre outros. A aplicação da transformação pode reduzir o efeito do viés."
   ]
  },
  {
   "cell_type": "markdown",
   "id": "6d355e09",
   "metadata": {},
   "source": [
    " **Segunda** : Alguns conceitos são melhor compreendidos quando tratamos sobre a proporção dos objetos do que sobre a diferença entre eles."
   ]
  },
  {
   "cell_type": "code",
   "execution_count": null,
   "id": "8e7a3fa3",
   "metadata": {},
   "outputs": [],
   "source": []
  },
  {
   "cell_type": "markdown",
   "id": "ffde7820",
   "metadata": {},
   "source": [
    "## 2 - Verificando correlações"
   ]
  },
  {
   "cell_type": "markdown",
   "id": "7b484de3",
   "metadata": {},
   "source": [
    "### Variáveis numéricas "
   ]
  },
  {
   "cell_type": "markdown",
   "id": "53630bc4",
   "metadata": {},
   "source": [
    "Vamos fazer um gráfico de pares de todas as variáveis numéricas."
   ]
  },
  {
   "cell_type": "code",
   "execution_count": null,
   "id": "c61a6695",
   "metadata": {
    "scrolled": true
   },
   "outputs": [],
   "source": [
    "# Cria um novo dataframe apenas com variáveis numéricas:\n",
    "\n",
    "bike_num = bike_new[[ 'temp', 'atemp', 'hum', 'windspeed','cnt']]\n",
    "\n",
    "sns.pairplot(bike_num, diag_kind='kde')\n",
    "plt.show()"
   ]
  },
  {
   "cell_type": "markdown",
   "id": "bf8a0786",
   "metadata": {},
   "source": [
    "O Par-Plot acima indica que existe uma RELAÇÃO LINEAR entre 'temp', 'atemp' e 'cnt'"
   ]
  },
  {
   "cell_type": "markdown",
   "id": "a9c80311",
   "metadata": {},
   "source": [
    "### Variáveis Categóricas"
   ]
  },
  {
   "cell_type": "markdown",
   "id": "7fdd0bb5",
   "metadata": {},
   "source": [
    "Construir boxplot de todas as variáveis categóricas (antes de criar dummies) contra a variável alvo 'cnt'.\n",
    "\n",
    "Para ver como cada variável preditora se compara à variável de destino."
   ]
  },
  {
   "cell_type": "code",
   "execution_count": null,
   "id": "0bc77705",
   "metadata": {},
   "outputs": [],
   "source": [
    "plt.figure(figsize=(25, 10))\n",
    "plt.subplot(2,3,1)\n",
    "sns.boxplot(x = 'season', y = 'cnt', data = bike)\n",
    "plt.subplot(2,3,2)\n",
    "sns.boxplot(x = 'mnth', y = 'cnt', data = bike)\n",
    "plt.subplot(2,3,3)\n",
    "sns.boxplot(x = 'weathersit', y = 'cnt', data = bike)\n",
    "plt.subplot(2,3,4)\n",
    "sns.boxplot(x = 'holiday', y = 'cnt', data = bike)\n",
    "plt.subplot(2,3,5)\n",
    "sns.boxplot(x = 'weekday', y = 'cnt', data = bike)\n",
    "plt.subplot(2,3,6)\n",
    "sns.boxplot(x = 'workingday', y = 'cnt', data = bike)\n",
    "plt.show()"
   ]
  },
  {
   "cell_type": "markdown",
   "id": "527fa648",
   "metadata": {},
   "source": [
    "**mnth**: Quase 10% das reservas de bicicletas aconteceram nos meses 5,6,7,8 e 9, com uma média de mais de 4.000 reservas por mês. Isso indica que mnth tem alguma tendência para reservas e pode ser um bom preditor para a variável dependente.\n",
    "\n",
    "**weathersit**: Quase 67% das reservas de bicicletas estavam acontecendo durante o \"weathersit1\", com uma média de cerca de 5.000 reservas (para o período de 2 anos). Isto foi seguido por weathersit2 com 30% da reserva total. Isso indica que o clima mostra alguma tendência em relação às reservas de bicicletas pode ser um bom preditor para a variável dependente.\n",
    "\n",
    "**holiday**: Quase 97,6% das reservas de bicicletas ocorreram quando não é feriado, o que significa que esses dados são claramente tendenciosos. **Isso indica que o feriado NÃO PODE ser um bom preditor para a variável dependente**.\n",
    "\n",
    "**weekday**: a variável dia da semana apresenta tendência muito próxima (entre 13,5%-14,8% do total de reservas em todos os dias da semana) tendo suas medianas independentes entre 4.000 a 5.000 reservas. Esta variável pode ter alguma ou nenhuma influência sobre o preditor.\n",
    "\n",
    "**workingday**: Quase 69% das reservas de bicicletas ocorreram em 'dia útil' com uma mediana de cerca de 5.000 reservas (para o período de 2 anos). Isso indica que a jornada de trabalho pode ser um bom preditor para a variável dependente."
   ]
  },
  {
   "cell_type": "markdown",
   "id": "ae024e24",
   "metadata": {},
   "source": [
    "## Matriz de correlação"
   ]
  },
  {
   "cell_type": "markdown",
   "id": "753279a4",
   "metadata": {},
   "source": [
    "Vamos verificar os coeficientes de correlação para ver quais variáveis são altamente correlacionadas."
   ]
  },
  {
   "cell_type": "code",
   "execution_count": null,
   "id": "6db90529",
   "metadata": {},
   "outputs": [],
   "source": [
    "plt.figure(figsize = (25,20))\n",
    "sns.heatmap(bike_new.corr(), annot = True, cmap=\"RdBu\")\n",
    "plt.show()"
   ]
  },
  {
   "cell_type": "markdown",
   "id": "d9e236ec",
   "metadata": {},
   "source": [
    "O mapa de calor mostra claramente quais variáveis são multicolineares por natureza e quais têm alta colinearidade com a variável alvo.\n",
    "\n",
    "Iremos referenciar este mapa para frente e para trás durante a construção do modelo linear para validar diferentes valores correlacionados junto com VIF & valor p, para identificar a variável correta para selecionar/eliminar do modelo."
   ]
  },
  {
   "cell_type": "code",
   "execution_count": null,
   "id": "a2fe99f3",
   "metadata": {},
   "outputs": [],
   "source": [
    "bike_new.drop([\"holiday\"], axis=1, inplace = True)"
   ]
  },
  {
   "cell_type": "code",
   "execution_count": null,
   "id": "970738fc",
   "metadata": {},
   "outputs": [],
   "source": [
    "bike_new"
   ]
  },
  {
   "cell_type": "markdown",
   "id": "7a39c3ef",
   "metadata": {},
   "source": [
    "## 3 - Construindo um modelo linear"
   ]
  },
  {
   "cell_type": "markdown",
   "id": "3b21c316",
   "metadata": {},
   "source": [
    "### Separando os dados de treinamento e os dados de teste"
   ]
  },
  {
   "cell_type": "markdown",
   "id": "5488b296",
   "metadata": {},
   "source": [
    "Vamos separar 95% dos nossos dados aleatóriamente para fazer o modelo e os outros 5% para fazer testes no final"
   ]
  },
  {
   "cell_type": "code",
   "execution_count": null,
   "id": "f7f1b4f7",
   "metadata": {},
   "outputs": [],
   "source": [
    "np.random.seed(0)\n",
    "df_train, df_test = train_test_split(bike_new, train_size = 0.95, test_size = 0.05, random_state = 333)"
   ]
  },
  {
   "cell_type": "markdown",
   "id": "e6c14b4a",
   "metadata": {},
   "source": [
    "### Separando as variáveis independentes e a dependente"
   ]
  },
  {
   "cell_type": "markdown",
   "id": "f1232e86",
   "metadata": {},
   "source": [
    "Antes será realizada a separação entre a variável dependente e as variáveis independentes.\n",
    "\n",
    "https://ivanildo-batista13.medium.com/regress%C3%A3o-linear-m%C3%BAltipla-em-python-eb4b6603a3"
   ]
  },
  {
   "cell_type": "code",
   "execution_count": null,
   "id": "43d58a11",
   "metadata": {},
   "outputs": [],
   "source": [
    "#Variável dependente\n",
    "y = df_train[\"cnt\"].copy()\n",
    "#Variáveis independentes\n",
    "X = df_train.drop('cnt', axis=1)"
   ]
  },
  {
   "cell_type": "markdown",
   "id": "d4519acd",
   "metadata": {},
   "source": [
    "### Rodando o modelo"
   ]
  },
  {
   "cell_type": "code",
   "execution_count": null,
   "id": "7302d3c3",
   "metadata": {
    "scrolled": true
   },
   "outputs": [],
   "source": [
    "modelo1 = (sm.OLS(y,sm.add_constant(X)).fit())\n",
    "modelo1.summary(title='Sumário do modelo')"
   ]
  },
  {
   "cell_type": "markdown",
   "id": "edd17d62",
   "metadata": {},
   "source": [
    "## Analisando a tabela"
   ]
  },
  {
   "cell_type": "markdown",
   "id": "307f58e7",
   "metadata": {},
   "source": [
    "### Primeira parte"
   ]
  },
  {
   "cell_type": "markdown",
   "id": "478758aa",
   "metadata": {},
   "source": [
    "### 𝑅² e 𝑅² ajustado — Coeficiente de determinação\n"
   ]
  },
  {
   "cell_type": "markdown",
   "id": "e7d09e55",
   "metadata": {},
   "source": [
    "* O que é $R^2$?"
   ]
  },
  {
   "cell_type": "markdown",
   "id": "11adc75e",
   "metadata": {},
   "source": [
    "O coeficiente de determinação é uma proporção que ajuda a entender o quanto as variáveis explicativas explicam a variação da média da quantidade de pessoas que alugam bicicletas."
   ]
  },
  {
   "cell_type": "markdown",
   "id": "fc3953c2",
   "metadata": {},
   "source": [
    "O 𝑅² varia entre 0 e 1, então quanto maior o 𝑅² melhor é o modelo de regressão, pois teria uma maior a capacidade de explicação."
   ]
  },
  {
   "cell_type": "markdown",
   "id": "d1da0a86",
   "metadata": {},
   "source": [
    "Uma limitação dessa medida é que com a inserção de regressores ao modelo o 𝑅² tende a aumentar."
   ]
  },
  {
   "cell_type": "markdown",
   "id": "7adbd1d0",
   "metadata": {},
   "source": [
    "* Fórmula do 𝑅²"
   ]
  },
  {
   "cell_type": "markdown",
   "id": "11d943a1",
   "metadata": {},
   "source": [
    "![alt text for screen readers](img/r2_0.png)."
   ]
  },
  {
   "cell_type": "markdown",
   "id": "413fb078",
   "metadata": {},
   "source": [
    "SST = Soma dos quadrados totais (sum of squares total).\n",
    "\n",
    "SSR = Soma dos quadrados da regressão (sum of squares due to regression).\n",
    "\n",
    "SSE = Soma dos quadrados dos resíduos (sum of squares error)."
   ]
  },
  {
   "cell_type": "markdown",
   "id": "f2689a2a",
   "metadata": {},
   "source": [
    "* O que é $R^2$ ajustado?"
   ]
  },
  {
   "cell_type": "markdown",
   "id": "a730ca0a",
   "metadata": {},
   "source": [
    "Diferente do 𝑅², o 𝑅² ajustado não sofre a limitação de nunca decair. Caso seja inserido um modelo de regressão uma variável que não seja importante o 𝑅² ajustado irá diminuir."
   ]
  },
  {
   "cell_type": "markdown",
   "id": "0bb9fd3b",
   "metadata": {},
   "source": [
    "Uma característica do 𝑅² ajustado é que ele pode ser negativo e por isso ele não pode ser interpretado como uma proporção. Além disso essa medida serve para fazer a comparação entre modelos diferentes."
   ]
  },
  {
   "cell_type": "markdown",
   "id": "8c0875d0",
   "metadata": {},
   "source": [
    "* Fórmula do 𝑅² ajustado"
   ]
  },
  {
   "cell_type": "markdown",
   "id": "29e0d61a",
   "metadata": {},
   "source": [
    "![alt text for screen readers](img/r2_1.png)."
   ]
  },
  {
   "cell_type": "markdown",
   "id": "54d7122c",
   "metadata": {},
   "source": [
    "T = Número de observações.\n",
    "\n",
    "K = Número de parâmetros."
   ]
  },
  {
   "cell_type": "markdown",
   "id": "e910a067",
   "metadata": {},
   "source": [
    "### F-statistic e Prob(F-statistic)"
   ]
  },
  {
   "cell_type": "markdown",
   "id": "74e12129",
   "metadata": {},
   "source": [
    "Teste de significância conjunta dos parâmetros do modelo."
   ]
  },
  {
   "cell_type": "markdown",
   "id": "442818f4",
   "metadata": {},
   "source": [
    "Hipóteses do teste:"
   ]
  },
  {
   "cell_type": "markdown",
   "id": "3cc37fcb",
   "metadata": {},
   "source": [
    "![alt text for screen readers](f_0.png \"Text to show on mouseover\")."
   ]
  },
  {
   "cell_type": "markdown",
   "id": "df09a34c",
   "metadata": {},
   "source": [
    "Testa se os coeficientes são conjuntamente nulos e para esse teste deve-se rejeitar a hipótese nula e para rejeitar a hipótese nula precisamos que o valor da estatística gerado no modelo esteja fora da região de aceitação da hipótese nula. Esse teste é conhecido como o teste F."
   ]
  },
  {
   "cell_type": "markdown",
   "id": "228ec4fa",
   "metadata": {},
   "source": [
    "A regra de rejeição é que\n",
    "\n",
    "\n",
    "![alt text for screen readers](f_1.png \"Text to show on mouseover\")\n",
    "\n",
    "\n",
    "O valor foi de 133.0 (cada vez que rodar será diferente) e observando a tabela da distribuição F de Snedecor a 5% [aqui](https://edisciplinas.usp.br/pluginfile.php/3333945/mod_resource/content/1/Distribuicao%20F%205%25.pdf) , veremos que esse valor fica muito acima dos valores limites seja qual for o grau de liberdade (os graus de liberdade são definidos como 𝑛−𝑘).\n",
    "\n",
    "Conclusão rejeitamos a hipótse nula e os parâmetros/coeficientes são conjuntamente significativos.\n",
    "\n",
    "O Prob(F-statistic) diz a mesma coisa que o F-statistic : probabilidade da hipótese nula ser verdadeira."
   ]
  },
  {
   "cell_type": "markdown",
   "id": "7b8ba1f1",
   "metadata": {},
   "source": [
    "## Segunda Parte"
   ]
  },
  {
   "cell_type": "markdown",
   "id": "57029be1",
   "metadata": {},
   "source": [
    "Nessa segunda parte constam os parâmetros, o erro padrão de cada coeficiente, a estatística t, seus respectivos p-valores e os intervalos de confiança."
   ]
  },
  {
   "cell_type": "markdown",
   "id": "8f94ba2c",
   "metadata": {},
   "source": [
    "### Coeficientes ou parâmetros\n"
   ]
  },
  {
   "cell_type": "markdown",
   "id": "f10ce15d",
   "metadata": {},
   "source": [
    "A constante é a média da variável dependente, quando todos os valores das outras variáveis forem zero. Os parâmetros das variáveis independentes medem o impacto na variação média da variável dependente."
   ]
  },
  {
   "cell_type": "markdown",
   "id": "e42ea6da",
   "metadata": {},
   "source": [
    "### Erro padrão"
   ]
  },
  {
   "cell_type": "markdown",
   "id": "01ec7373",
   "metadata": {},
   "source": [
    "Erro padrão é uma estimativa do desvio padrão do coeficiente, uma medida da quantidade de variação no coeficiente ao longo de seus pontos de dados."
   ]
  },
  {
   "cell_type": "markdown",
   "id": "807823a1",
   "metadata": {},
   "source": [
    "### Teste de significância individual dos parâmetros\n"
   ]
  },
  {
   "cell_type": "markdown",
   "id": "23008dda",
   "metadata": {},
   "source": [
    "Esse resultado faz parte do teste de hipótese do parâmetro. Nesse teste de hipótese testamos se o parâmetro é estatisticamente igual a um determinado valor, ou seja,"
   ]
  },
  {
   "cell_type": "markdown",
   "id": "047757aa",
   "metadata": {},
   "source": [
    "![alt text for screen readers](t_1.png \"Text to show on mouseover\")."
   ]
  },
  {
   "cell_type": "markdown",
   "id": "cbc87274",
   "metadata": {},
   "source": [
    "O ideal para esse teste é que rejeitemos a hipótese nula."
   ]
  },
  {
   "cell_type": "markdown",
   "id": "ff6c9d6f",
   "metadata": {},
   "source": [
    "### P-valor\n"
   ]
  },
  {
   "cell_type": "markdown",
   "id": "b14413b4",
   "metadata": {},
   "source": [
    "É uma estatística que relata os resultados de um teste de hipótese, essa estatística satisfaz 0≤𝑝(𝑥)≤1. É conhecido como nível de significância exato ou observado ou probabilidade exata de cometer um erro de Tipo I (rejeitar a hipótese nula quando ela é verdadeira).\n",
    "\n",
    "Quanto maior o valor dessa estatística, maior a evidência a favor da hipótese alternativa do teste. Aqui o teste é da significância individual dos parâmetros."
   ]
  },
  {
   "cell_type": "markdown",
   "id": "059f0e5e",
   "metadata": {},
   "source": [
    "## 4 - Análise dos resultados"
   ]
  },
  {
   "cell_type": "markdown",
   "id": "b5a7c99f",
   "metadata": {},
   "source": [
    "### Equação da reta"
   ]
  },
  {
   "cell_type": "code",
   "execution_count": null,
   "id": "5a8e0292",
   "metadata": {},
   "outputs": [],
   "source": [
    "def equacao(parametros):\n",
    "    equacao = \"cnt = \"\n",
    "    for param, coef in zip(parametros.index, parametros):\n",
    "        if param == \"const\":\n",
    "            equacao += f\"({coef}) + \"\n",
    "        elif param == \"weathersit_3\":\n",
    "            equacao += f\"{param} * ({coef})\"\n",
    "        else:\n",
    "            equacao += f\"{param} * ({coef}) + \"\n",
    "    return equacao\n",
    "\n",
    "parametros = modelo1.params \n",
    "print(equacao(parametros))"
   ]
  },
  {
   "cell_type": "code",
   "execution_count": null,
   "id": "72420af2",
   "metadata": {},
   "outputs": [],
   "source": [
    "df_test"
   ]
  },
  {
   "cell_type": "code",
   "execution_count": null,
   "id": "8ca6360b",
   "metadata": {},
   "outputs": [],
   "source": [
    "def cnt(parametros, df_dados):\n",
    "    df_dados_independentes = df_dados.drop('cnt', axis=1)\n",
    "    dados_depedente = list(df_dados[\"cnt\"])\n",
    "    previsto = []\n",
    "    for coluna, valores in df_dados_independentes.iterrows():\n",
    "        valores_new = [0] + list(valores)\n",
    "        cnt = 0\n",
    "        for coef, valor in zip(parametros,valores_new):\n",
    "#             print(coef, valor)\n",
    "            if cnt == 0:\n",
    "                cnt += coef\n",
    "            else:\n",
    "                cnt += (coef * valor)\n",
    "        cnt = \"{:0.0f}\".format(cnt)\n",
    "        previsto.append(int(cnt))\n",
    "\n",
    "    df_cnt = pd.DataFrame({\"Previsto\": previsto, \"Original\": dados_depedente})\n",
    "    return df_cnt\n",
    "df = cnt(parametros, df_test)     "
   ]
  },
  {
   "cell_type": "code",
   "execution_count": null,
   "id": "6ddc3ff1",
   "metadata": {},
   "outputs": [],
   "source": [
    "df"
   ]
  },
  {
   "cell_type": "markdown",
   "id": "ec75c690",
   "metadata": {},
   "source": [
    "## Visualização"
   ]
  },
  {
   "cell_type": "markdown",
   "id": "8f84bd48",
   "metadata": {},
   "source": [
    "Vamos agora plotar um gráfico com as previsões e as quantidades reais"
   ]
  },
  {
   "cell_type": "code",
   "execution_count": null,
   "id": "8c4d5308",
   "metadata": {},
   "outputs": [],
   "source": [
    "previsto_list = list(df[\"Previsto\"])\n",
    "original_list = list(df[\"Original\"])\n",
    "\n",
    "# Definindo a largura das barras\n",
    "barWidth = 0.25\n",
    "\n",
    "# Aumentando o gráfico\n",
    "plt.figure(figsize=(10,5))\n",
    "\n",
    "# Definindo a posição das barras\n",
    "r1 = np.arange(len(previsto_list))\n",
    "r2 = [x + barWidth for x in r1]\n",
    "\n",
    "# Criando as barras\n",
    "plt.bar(r1, previsto_list, color = \"#6A5ACD\", width=barWidth, label=\"Previsto\")\n",
    "plt.bar(r2, original_list, color = \"#6495ED\", width=barWidth, label=\"Original\")\n",
    "\n",
    "# Adicionando legendas as barras\n",
    "plt.xlabel(\"Dias aleatórios\")\n",
    "plt.ylabel(\"Quantidade de bicicletas alugadas\")\n",
    "plt.title(\"Previsão da quantidade de bicicletas alugadas\")\n",
    "\n",
    "# Criando a legenda e exibindo o gráfico\n",
    "plt.legend()\n",
    "plt.show()"
   ]
  },
  {
   "cell_type": "code",
   "execution_count": null,
   "id": "10a94067",
   "metadata": {},
   "outputs": [],
   "source": []
  },
  {
   "cell_type": "code",
   "execution_count": null,
   "id": "b620e5c0",
   "metadata": {},
   "outputs": [],
   "source": []
  }
 ],
 "metadata": {
  "kernelspec": {
   "display_name": "Python 3 (ipykernel)",
   "language": "python",
   "name": "python3"
  },
  "language_info": {
   "codemirror_mode": {
    "name": "ipython",
    "version": 3
   },
   "file_extension": ".py",
   "mimetype": "text/x-python",
   "name": "python",
   "nbconvert_exporter": "python",
   "pygments_lexer": "ipython3",
   "version": "3.10.6"
  }
 },
 "nbformat": 4,
 "nbformat_minor": 5
}
